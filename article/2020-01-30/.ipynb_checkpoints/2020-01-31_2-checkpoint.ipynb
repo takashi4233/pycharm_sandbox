{
 "cells": [
  {
   "cell_type": "code",
   "execution_count": 2,
   "metadata": {},
   "outputs": [
    {
     "data": {
      "text/plain": [
       "'%.3f'"
      ]
     },
     "execution_count": 2,
     "metadata": {},
     "output_type": "execute_result"
    }
   ],
   "source": [
    "import pandas as pd\n",
    "import numpy as np\n",
    "import scipy as sp\n",
    "\n",
    "import matplotlib.pyplot as plt\n",
    "import seaborn as sns\n",
    "from sklearn import linear_model\n",
    "sns.set()\n",
    "\n",
    "%matplotlib inline\n",
    "%precision 3"
   ]
  },
  {
   "cell_type": "code",
   "execution_count": 7,
   "metadata": {},
   "outputs": [
    {
     "data": {
      "text/html": [
       "<div>\n",
       "<style scoped>\n",
       "    .dataframe tbody tr th:only-of-type {\n",
       "        vertical-align: middle;\n",
       "    }\n",
       "\n",
       "    .dataframe tbody tr th {\n",
       "        vertical-align: top;\n",
       "    }\n",
       "\n",
       "    .dataframe thead th {\n",
       "        text-align: right;\n",
       "    }\n",
       "</style>\n",
       "<table border=\"1\" class=\"dataframe\">\n",
       "  <thead>\n",
       "    <tr style=\"text-align: right;\">\n",
       "      <th></th>\n",
       "      <th>EXP</th>\n",
       "      <th>CUMSUM_EXP</th>\n",
       "    </tr>\n",
       "  </thead>\n",
       "  <tbody>\n",
       "    <tr>\n",
       "      <th>1</th>\n",
       "      <td>0</td>\n",
       "      <td>0</td>\n",
       "    </tr>\n",
       "    <tr>\n",
       "      <th>2</th>\n",
       "      <td>9</td>\n",
       "      <td>9</td>\n",
       "    </tr>\n",
       "    <tr>\n",
       "      <th>3</th>\n",
       "      <td>23</td>\n",
       "      <td>32</td>\n",
       "    </tr>\n",
       "    <tr>\n",
       "      <th>4</th>\n",
       "      <td>50</td>\n",
       "      <td>82</td>\n",
       "    </tr>\n",
       "    <tr>\n",
       "      <th>5</th>\n",
       "      <td>105</td>\n",
       "      <td>187</td>\n",
       "    </tr>\n",
       "  </tbody>\n",
       "</table>\n",
       "</div>"
      ],
      "text/plain": [
       "   EXP  CUMSUM_EXP\n",
       "1    0           0\n",
       "2    9           9\n",
       "3   23          32\n",
       "4   50          82\n",
       "5  105         187"
      ]
     },
     "execution_count": 7,
     "metadata": {},
     "output_type": "execute_result"
    }
   ],
   "source": [
    "df = pd.read_csv('data.csv',names=['EXP'])\n",
    "df['CUMSUM_EXP'] = df['EXP'].cumsum()\n",
    "df.index = df.index + 1\n",
    "df.head()"
   ]
  },
  {
   "cell_type": "code",
   "execution_count": 154,
   "metadata": {},
   "outputs": [
    {
     "name": "stdout",
     "output_type": "stream",
     "text": [
      "[[1], [2], [3], [4], [5], [6], [7], [8], [9], [10], [11], [12], [13], [14], [15], [16], [17], [18], [19], [20], [21], [22], [23], [24], [25], [26], [27], [28], [29], [30], [31], [32], [33], [34], [35], [36], [37], [38], [39], [40], [41], [42], [43], [44], [45], [46], [47], [48], [49], [50], [51], [52], [53], [54], [55]]\n"
     ]
    }
   ],
   "source": [
    "X = []\n",
    "for i in range(1,56):\n",
    "    X.append([i])\n",
    "print(X)"
   ]
  },
  {
   "cell_type": "code",
   "execution_count": 66,
   "metadata": {},
   "outputs": [
    {
     "name": "stdout",
     "output_type": "stream",
     "text": [
      "[23938.775]\n",
      "-385751.8525252527\n",
      "0.37707837855466153\n"
     ]
    }
   ],
   "source": [
    "from sklearn import linear_model\n",
    "reg = linear_model.LinearRegression()\n",
    " \n",
    "Y = df['EXP']\n",
    "# 予測モデルを作成\n",
    "reg.fit(X, Y)\n",
    "# 回帰係数\n",
    "print(reg.coef_)\n",
    "# 切片 \n",
    "print(reg.intercept_)\n",
    "# R2（決定係数）\n",
    "print(reg.score(X, Y))"
   ]
  },
  {
   "cell_type": "code",
   "execution_count": 48,
   "metadata": {
    "scrolled": true
   },
   "outputs": [
    {
     "name": "stdout",
     "output_type": "stream",
     "text": [
      "[23938.775]\n",
      "-385751.8525252527\n",
      "0.37707837855466153\n"
     ]
    }
   ],
   "source": [
    "# sklearn.linear_model.LinearRegression クラスを読み込み\n",
    "from sklearn import linear_model\n",
    "reg = linear_model.LinearRegression()\n",
    " \n",
    "#X = list(range(1,56))\n",
    "Y = df['EXP']\n",
    "# 予測モデルを作成\n",
    "reg.fit(X, Y)\n",
    "# 回帰係数\n",
    "print(reg.coef_)\n",
    "# 切片 (誤差)\n",
    "print(reg.intercept_)\n",
    "# R2（決定係数）\n",
    "print(reg.score(X, Y))"
   ]
  },
  {
   "cell_type": "markdown",
   "metadata": {},
   "source": [
    "$$\n",
    "y = 23938.775x -385751.8525252527\n",
    "$$"
   ]
  },
  {
   "cell_type": "code",
   "execution_count": 49,
   "metadata": {},
   "outputs": [
    {
     "data": {
      "image/png": "[encoded data removed]",
      "text/plain": [
       "<Figure size 432x288 with 1 Axes>"
      ]
     },
     "metadata": {
      "needs_background": "light"
     },
     "output_type": "display_data"
    }
   ],
   "source": [
    "plt.plot(df.index,df['EXP'],label=\"EXP\")\n",
    "plt.plot(X,reg.predict(X),label=\"LinearRegression\")\n",
    "plt.xlabel('LEVEL')\n",
    "plt.ylabel('EXP')\n",
    "plt.grid(True)"
   ]
  },
  {
   "cell_type": "code",
   "execution_count": 50,
   "metadata": {},
   "outputs": [
    {
     "name": "stdout",
     "output_type": "stream",
     "text": [
      "[153364.278]\n",
      "-2359823.56969697\n",
      "0.575857545526992\n"
     ]
    }
   ],
   "source": [
    "# sklearn.linear_model.LinearRegression クラスを読み込み\n",
    "from sklearn import linear_model\n",
    "reg2 = linear_model.LinearRegression()\n",
    " \n",
    "Y2 = df['CUMSUM_EXP']\n",
    "# 予測モデルを作成\n",
    "reg2.fit(X, Y2)\n",
    "# 回帰係数\n",
    "print(reg2.coef_)\n",
    "# 切片 \n",
    "print(reg2.intercept_)\n",
    "# R2（決定係数）\n",
    "print(reg2.score(X, Y2))"
   ]
  },
  {
   "cell_type": "markdown",
   "metadata": {},
   "source": [
    "$$\n",
    "y = 153363.278x -2359823.56969697\n",
    "$$"
   ]
  },
  {
   "cell_type": "code",
   "execution_count": 51,
   "metadata": {},
   "outputs": [
    {
     "data": {
      "image/png": "[encoded data removed]",
      "text/plain": [
       "<Figure size 432x288 with 1 Axes>"
      ]
     },
     "metadata": {
      "needs_background": "light"
     },
     "output_type": "display_data"
    }
   ],
   "source": [
    "plt.plot(df.index,df['CUMSUM_EXP'],label=\"CUMSUM_EXP\")\n",
    "plt.plot(X,reg2.predict(X),label=\"LinearRegression\")\n",
    "plt.xlabel('LEVEL')\n",
    "plt.ylabel('EXP')\n",
    "plt.grid(True)"
   ]
  },
  {
   "cell_type": "code",
   "execution_count": 70,
   "metadata": {},
   "outputs": [
    {
     "data": {
      "text/html": [
       "<div>\n",
       "<style scoped>\n",
       "    .dataframe tbody tr th:only-of-type {\n",
       "        vertical-align: middle;\n",
       "    }\n",
       "\n",
       "    .dataframe tbody tr th {\n",
       "        vertical-align: top;\n",
       "    }\n",
       "\n",
       "    .dataframe thead th {\n",
       "        text-align: right;\n",
       "    }\n",
       "</style>\n",
       "<table border=\"1\" class=\"dataframe\">\n",
       "  <thead>\n",
       "    <tr style=\"text-align: right;\">\n",
       "      <th></th>\n",
       "      <th>D1</th>\n",
       "      <th>D2</th>\n",
       "    </tr>\n",
       "  </thead>\n",
       "  <tbody>\n",
       "    <tr>\n",
       "      <th>0</th>\n",
       "      <td>1</td>\n",
       "      <td>1</td>\n",
       "    </tr>\n",
       "    <tr>\n",
       "      <th>1</th>\n",
       "      <td>2</td>\n",
       "      <td>4</td>\n",
       "    </tr>\n",
       "    <tr>\n",
       "      <th>2</th>\n",
       "      <td>3</td>\n",
       "      <td>9</td>\n",
       "    </tr>\n",
       "    <tr>\n",
       "      <th>3</th>\n",
       "      <td>4</td>\n",
       "      <td>16</td>\n",
       "    </tr>\n",
       "    <tr>\n",
       "      <th>4</th>\n",
       "      <td>5</td>\n",
       "      <td>25</td>\n",
       "    </tr>\n",
       "  </tbody>\n",
       "</table>\n",
       "</div>"
      ],
      "text/plain": [
       "   D1  D2\n",
       "0   1   1\n",
       "1   2   4\n",
       "2   3   9\n",
       "3   4  16\n",
       "4   5  25"
      ]
     },
     "execution_count": 70,
     "metadata": {},
     "output_type": "execute_result"
    }
   ],
   "source": [
    "D1 = []\n",
    "D2 = []\n",
    "for i in range(1,56):\n",
    "    D1.append(i)\n",
    "    D2.append(i**2)\n",
    "df_x = pd.DataFrame({\"D1\":D1,\"D2\":D2})\n",
    "df_x.head()"
   ]
  },
  {
   "cell_type": "code",
   "execution_count": 76,
   "metadata": {},
   "outputs": [
    {
     "name": "stdout",
     "output_type": "stream",
     "text": [
      "[-55661.831   1421.439]\n",
      "370453.89742710226\n",
      "0.6448373011584746\n"
     ]
    }
   ],
   "source": [
    "# sklearn.linear_model.LinearRegression クラスを読み込み\n",
    "reg3 = linear_model.LinearRegression()\n",
    "X3 =df_x\n",
    "Y3 = df['EXP']\n",
    "# 予測モデルを作成\n",
    "reg3.fit(X3, Y3)\n",
    "# 回帰係数\n",
    "print(reg3.coef_)\n",
    "# 切片 (誤差)\n",
    "print(reg3.intercept_)\n",
    "# R2（決定係数）\n",
    "print(reg3.score(X3, Y3))"
   ]
  },
  {
   "cell_type": "markdown",
   "metadata": {},
   "source": [
    "$$\n",
    "y=1421.439x^2-55661.831x+370453.89742710226\n",
    "$$"
   ]
  },
  {
   "cell_type": "code",
   "execution_count": 77,
   "metadata": {},
   "outputs": [
    {
     "data": {
      "image/png": "[encoded data removed]",
      "text/plain": [
       "<Figure size 432x288 with 1 Axes>"
      ]
     },
     "metadata": {
      "needs_background": "light"
     },
     "output_type": "display_data"
    }
   ],
   "source": [
    "plt.plot(df.index,df['EXP'],label=\"EXP\")\n",
    "plt.plot(X,reg3.predict(X3),label=\"LinearRegression\")\n",
    "plt.xlabel('LEVEL')\n",
    "plt.ylabel('EXP')\n",
    "plt.grid(True)"
   ]
  },
  {
   "cell_type": "code",
   "execution_count": 81,
   "metadata": {},
   "outputs": [
    {
     "name": "stdout",
     "output_type": "stream",
     "text": [
      "[-271835.718    7592.857]\n",
      "1679576.3927577701\n",
      "0.8601311577463235\n"
     ]
    }
   ],
   "source": [
    "reg4 = linear_model.LinearRegression()\n",
    "X4 =df_x\n",
    "Y4 = df['CUMSUM_EXP']\n",
    "# 予測モデルを作成\n",
    "reg4.fit(X4, Y4)\n",
    "# 回帰係数\n",
    "print(reg4.coef_)\n",
    "# 切片 (誤差)\n",
    "print(reg4.intercept_)\n",
    "# R2（決定係数）\n",
    "print(reg4.score(X4, Y4))"
   ]
  },
  {
   "cell_type": "markdown",
   "metadata": {},
   "source": [
    "$$\n",
    "y = 7592.857x^2 -271835.718 x +1679576.3927577701\n",
    "$$"
   ]
  },
  {
   "cell_type": "code",
   "execution_count": 82,
   "metadata": {},
   "outputs": [
    {
     "data": {
      "image/png": "[encoded data removed]",
      "text/plain": [
       "<Figure size 432x288 with 1 Axes>"
      ]
     },
     "metadata": {
      "needs_background": "light"
     },
     "output_type": "display_data"
    }
   ],
   "source": [
    "plt.plot(df.index,df['CUMSUM_EXP'],label=\"CUMSUM_EXP\")\n",
    "plt.plot(X,reg4.predict(X4),label=\"LinearRegression\")\n",
    "plt.xlabel('LEVEL')\n",
    "plt.ylabel('EXP')\n",
    "plt.grid(True)"
   ]
  },
  {
   "cell_type": "code",
   "execution_count": 84,
   "metadata": {},
   "outputs": [
    {
     "data": {
      "text/html": [
       "<div>\n",
       "<style scoped>\n",
       "    .dataframe tbody tr th:only-of-type {\n",
       "        vertical-align: middle;\n",
       "    }\n",
       "\n",
       "    .dataframe tbody tr th {\n",
       "        vertical-align: top;\n",
       "    }\n",
       "\n",
       "    .dataframe thead th {\n",
       "        text-align: right;\n",
       "    }\n",
       "</style>\n",
       "<table border=\"1\" class=\"dataframe\">\n",
       "  <thead>\n",
       "    <tr style=\"text-align: right;\">\n",
       "      <th></th>\n",
       "      <th>D1</th>\n",
       "      <th>D2</th>\n",
       "      <th>D3</th>\n",
       "    </tr>\n",
       "  </thead>\n",
       "  <tbody>\n",
       "    <tr>\n",
       "      <th>0</th>\n",
       "      <td>1</td>\n",
       "      <td>1</td>\n",
       "      <td>1</td>\n",
       "    </tr>\n",
       "    <tr>\n",
       "      <th>1</th>\n",
       "      <td>2</td>\n",
       "      <td>4</td>\n",
       "      <td>8</td>\n",
       "    </tr>\n",
       "    <tr>\n",
       "      <th>2</th>\n",
       "      <td>3</td>\n",
       "      <td>9</td>\n",
       "      <td>27</td>\n",
       "    </tr>\n",
       "    <tr>\n",
       "      <th>3</th>\n",
       "      <td>4</td>\n",
       "      <td>16</td>\n",
       "      <td>64</td>\n",
       "    </tr>\n",
       "    <tr>\n",
       "      <th>4</th>\n",
       "      <td>5</td>\n",
       "      <td>25</td>\n",
       "      <td>125</td>\n",
       "    </tr>\n",
       "  </tbody>\n",
       "</table>\n",
       "</div>"
      ],
      "text/plain": [
       "   D1  D2   D3\n",
       "0   1   1    1\n",
       "1   2   4    8\n",
       "2   3   9   27\n",
       "3   4  16   64\n",
       "4   5  25  125"
      ]
     },
     "execution_count": 84,
     "metadata": {},
     "output_type": "execute_result"
    }
   ],
   "source": [
    "D1 = []\n",
    "D2 = []\n",
    "D3 = []\n",
    "for i in range(1,56):\n",
    "    D1.append(i)\n",
    "    D2.append(i**2)\n",
    "    D3.append(i**3)\n",
    "df_x = pd.DataFrame({\"D1\":D1,\"D2\":D2,\"D3\":D3})\n",
    "df_x.head()"
   ]
  },
  {
   "cell_type": "code",
   "execution_count": 88,
   "metadata": {},
   "outputs": [
    {
     "name": "stdout",
     "output_type": "stream",
     "text": [
      "[ 9.379e+04 -5.191e+03  7.872e+01]\n",
      "-358196.8217560845\n",
      "0.8040398848023267\n",
      "-----\n",
      "[293335.888 -17412.102    297.678]\n",
      "-1075970.0751728755\n",
      "0.9448471937904127\n"
     ]
    }
   ],
   "source": [
    "# 必要経験値\n",
    "reg5 = linear_model.LinearRegression()\n",
    "X5 =df_x\n",
    "Y5 = df['EXP']\n",
    "reg5.fit(X5, Y5)\n",
    "print(reg5.coef_)\n",
    "print(reg5.intercept_)\n",
    "print(reg5.score(X5, Y5))\n",
    "print (\"-----\")\n",
    "#累積経験値\n",
    "reg6 = linear_model.LinearRegression()\n",
    "X6 =df_x\n",
    "Y6 = df['CUMSUM_EXP']\n",
    "reg6.fit(X6, Y6)\n",
    "print(reg6.coef_)\n",
    "print(reg6.intercept_)\n",
    "print(reg6.score(X6, Y6))"
   ]
  },
  {
   "cell_type": "code",
   "execution_count": 103,
   "metadata": {
    "scrolled": true
   },
   "outputs": [
    {
     "data": {
      "image/png": "[encoded data removed]",
      "text/plain": [
       "<Figure size 720x360 with 2 Axes>"
      ]
     },
     "metadata": {
      "needs_background": "light"
     },
     "output_type": "display_data"
    }
   ],
   "source": [
    "plt.figure(figsize=(10,5))\n",
    "plt.subplot(1,2,1)\n",
    "plt.plot(df.index,df['EXP'],label=\"EXP\")\n",
    "plt.plot(X,reg5.predict(X5),label=\"LinearRegression\")\n",
    "\n",
    "plt.subplot(1,2,2)\n",
    "plt.plot(df.index,df['CUMSUM_EXP'],label=\"EXP\")\n",
    "plt.plot(X,reg6.predict(X6),label=\"LinearRegression\")\n",
    "\n",
    "plt.xlabel('LEVEL')\n",
    "plt.ylabel('EXP')\n",
    "\n",
    "\n",
    "plt.grid(True)\n",
    "\n"
   ]
  },
  {
   "cell_type": "code",
   "execution_count": 105,
   "metadata": {},
   "outputs": [
    {
     "data": {
      "text/html": [
       "<div>\n",
       "<style scoped>\n",
       "    .dataframe tbody tr th:only-of-type {\n",
       "        vertical-align: middle;\n",
       "    }\n",
       "\n",
       "    .dataframe tbody tr th {\n",
       "        vertical-align: top;\n",
       "    }\n",
       "\n",
       "    .dataframe thead th {\n",
       "        text-align: right;\n",
       "    }\n",
       "</style>\n",
       "<table border=\"1\" class=\"dataframe\">\n",
       "  <thead>\n",
       "    <tr style=\"text-align: right;\">\n",
       "      <th></th>\n",
       "      <th>D1</th>\n",
       "      <th>D2</th>\n",
       "      <th>D3</th>\n",
       "      <th>D4</th>\n",
       "    </tr>\n",
       "  </thead>\n",
       "  <tbody>\n",
       "    <tr>\n",
       "      <th>0</th>\n",
       "      <td>1</td>\n",
       "      <td>1</td>\n",
       "      <td>1</td>\n",
       "      <td>1</td>\n",
       "    </tr>\n",
       "    <tr>\n",
       "      <th>1</th>\n",
       "      <td>2</td>\n",
       "      <td>4</td>\n",
       "      <td>8</td>\n",
       "      <td>16</td>\n",
       "    </tr>\n",
       "    <tr>\n",
       "      <th>2</th>\n",
       "      <td>3</td>\n",
       "      <td>9</td>\n",
       "      <td>27</td>\n",
       "      <td>81</td>\n",
       "    </tr>\n",
       "    <tr>\n",
       "      <th>3</th>\n",
       "      <td>4</td>\n",
       "      <td>16</td>\n",
       "      <td>64</td>\n",
       "      <td>256</td>\n",
       "    </tr>\n",
       "    <tr>\n",
       "      <th>4</th>\n",
       "      <td>5</td>\n",
       "      <td>25</td>\n",
       "      <td>125</td>\n",
       "      <td>625</td>\n",
       "    </tr>\n",
       "  </tbody>\n",
       "</table>\n",
       "</div>"
      ],
      "text/plain": [
       "   D1  D2   D3   D4\n",
       "0   1   1    1    1\n",
       "1   2   4    8   16\n",
       "2   3   9   27   81\n",
       "3   4  16   64  256\n",
       "4   5  25  125  625"
      ]
     },
     "execution_count": 105,
     "metadata": {},
     "output_type": "execute_result"
    }
   ],
   "source": [
    "D1 = []\n",
    "D2 = []\n",
    "D3 = []\n",
    "D4 = []\n",
    "for i in range(1,56):\n",
    "    D1.append(i)\n",
    "    D2.append(i**2)\n",
    "    D3.append(i**3)\n",
    "    D4.append(i**4)\n",
    "df_x = pd.DataFrame({\"D1\":D1,\"D2\":D2,\"D3\":D3,\"D4\":D4})\n",
    "df_x.head()"
   ]
  },
  {
   "cell_type": "code",
   "execution_count": 106,
   "metadata": {},
   "outputs": [
    {
     "name": "stdout",
     "output_type": "stream",
     "text": [
      "[-1.388e+05  1.311e+04 -4.266e+02  4.512e+00]\n",
      "345840.43991429213\n",
      "0.903965378101503\n",
      "-----\n",
      "[-3.506e+05  3.325e+04 -1.101e+03  1.249e+01]\n",
      "872715.6090175691\n",
      "0.9733316171898837\n"
     ]
    }
   ],
   "source": [
    "# 必要経験値\n",
    "reg7 = linear_model.LinearRegression()\n",
    "X7 =df_x\n",
    "Y7 = df['EXP']\n",
    "reg7.fit(X7, Y7)\n",
    "print(reg7.coef_)\n",
    "print(reg7.intercept_)\n",
    "print(reg7.score(X7, Y7))\n",
    "print (\"-----\")\n",
    "#累積経験値\n",
    "reg8 = linear_model.LinearRegression()\n",
    "X8 =df_x\n",
    "Y8 = df['CUMSUM_EXP']\n",
    "reg8.fit(X8, Y8)\n",
    "print(reg8.coef_)\n",
    "print(reg8.intercept_)\n",
    "print(reg8.score(X8, Y8))"
   ]
  },
  {
   "cell_type": "code",
   "execution_count": 107,
   "metadata": {},
   "outputs": [
    {
     "data": {
      "image/png": "[encoded data removed]",
      "text/plain": [
       "<Figure size 720x360 with 2 Axes>"
      ]
     },
     "metadata": {
      "needs_background": "light"
     },
     "output_type": "display_data"
    }
   ],
   "source": [
    "plt.figure(figsize=(10,5))\n",
    "plt.subplot(1,2,1)\n",
    "plt.plot(df.index,df['EXP'],label=\"EXP\")\n",
    "plt.plot(X,reg7.predict(X7),label=\"LinearRegression\")\n",
    "\n",
    "plt.subplot(1,2,2)\n",
    "plt.plot(df.index,df['CUMSUM_EXP'],label=\"EXP\")\n",
    "plt.plot(X,reg8.predict(X8),label=\"LinearRegression\")\n",
    "\n",
    "plt.xlabel('LEVEL')\n",
    "plt.ylabel('EXP')\n",
    "\n",
    "\n",
    "plt.grid(True)\n",
    "\n",
    "\n"
   ]
  },
  {
   "cell_type": "code",
   "execution_count": 156,
   "metadata": {},
   "outputs": [
    {
     "data": {
      "text/html": [
       "<div>\n",
       "<style scoped>\n",
       "    .dataframe tbody tr th:only-of-type {\n",
       "        vertical-align: middle;\n",
       "    }\n",
       "\n",
       "    .dataframe tbody tr th {\n",
       "        vertical-align: top;\n",
       "    }\n",
       "\n",
       "    .dataframe thead th {\n",
       "        text-align: right;\n",
       "    }\n",
       "</style>\n",
       "<table border=\"1\" class=\"dataframe\">\n",
       "  <thead>\n",
       "    <tr style=\"text-align: right;\">\n",
       "      <th></th>\n",
       "      <th>D1</th>\n",
       "      <th>D2</th>\n",
       "      <th>D3</th>\n",
       "      <th>D4</th>\n",
       "      <th>D5</th>\n",
       "    </tr>\n",
       "  </thead>\n",
       "  <tbody>\n",
       "    <tr>\n",
       "      <th>0</th>\n",
       "      <td>1</td>\n",
       "      <td>1</td>\n",
       "      <td>1</td>\n",
       "      <td>1</td>\n",
       "      <td>1</td>\n",
       "    </tr>\n",
       "    <tr>\n",
       "      <th>1</th>\n",
       "      <td>2</td>\n",
       "      <td>4</td>\n",
       "      <td>8</td>\n",
       "      <td>16</td>\n",
       "      <td>32</td>\n",
       "    </tr>\n",
       "    <tr>\n",
       "      <th>2</th>\n",
       "      <td>3</td>\n",
       "      <td>9</td>\n",
       "      <td>27</td>\n",
       "      <td>81</td>\n",
       "      <td>243</td>\n",
       "    </tr>\n",
       "    <tr>\n",
       "      <th>3</th>\n",
       "      <td>4</td>\n",
       "      <td>16</td>\n",
       "      <td>64</td>\n",
       "      <td>256</td>\n",
       "      <td>1024</td>\n",
       "    </tr>\n",
       "    <tr>\n",
       "      <th>4</th>\n",
       "      <td>5</td>\n",
       "      <td>25</td>\n",
       "      <td>125</td>\n",
       "      <td>625</td>\n",
       "      <td>3125</td>\n",
       "    </tr>\n",
       "  </tbody>\n",
       "</table>\n",
       "</div>"
      ],
      "text/plain": [
       "   D1  D2   D3   D4    D5\n",
       "0   1   1    1    1     1\n",
       "1   2   4    8   16    32\n",
       "2   3   9   27   81   243\n",
       "3   4  16   64  256  1024\n",
       "4   5  25  125  625  3125"
      ]
     },
     "execution_count": 156,
     "metadata": {},
     "output_type": "execute_result"
    }
   ],
   "source": [
    "D1 = []\n",
    "D2 = []\n",
    "D3 = []\n",
    "D4 = []\n",
    "D5 = []\n",
    "for i in range(1,56):\n",
    "    D1.append(i)\n",
    "    D2.append(i**2)\n",
    "    D3.append(i**3)\n",
    "    D4.append(i**4)\n",
    "    D5.append(i**5)\n",
    "df_x = pd.DataFrame({\"D1\":D1,\"D2\":D2,\"D3\":D3,\"D4\":D4,\"D5\":D5})\n",
    "df_x.head()"
   ]
  },
  {
   "cell_type": "code",
   "execution_count": 157,
   "metadata": {},
   "outputs": [
    {
     "name": "stdout",
     "output_type": "stream",
     "text": [
      "[169653.164 -24071.536   1319.537    -30.403      0.249]\n",
      "-302752.6755892742\n",
      "0.9617880636542195\n",
      "-----\n",
      "[441428.45  -62211.509   3381.772    -77.146      0.64 ]\n",
      "-792375.3654236798\n",
      "0.9875113600376314\n"
     ]
    }
   ],
   "source": [
    "\n",
    "# 必要経験値\n",
    "reg9 = linear_model.LinearRegression()\n",
    "X9 =df_x\n",
    "Y9 = df['EXP']\n",
    "reg9.fit(X9, Y9)\n",
    "print(reg9.coef_)\n",
    "print(reg9.intercept_)\n",
    "print(reg9.score(X9, Y9))\n",
    "print (\"-----\")\n",
    "#累積経験値\n",
    "reg10 = linear_model.LinearRegression()\n",
    "X10 =df_x\n",
    "Y10 = df['CUMSUM_EXP']\n",
    "reg10.fit(X10, Y10)\n",
    "print(reg10.coef_)\n",
    "print(reg10.intercept_)\n",
    "print(reg10.score(X10, Y10))"
   ]
  },
  {
   "cell_type": "markdown",
   "metadata": {},
   "source": [
    "$$\n",
    "y=0.64x^5-77.146x^4+3381.772x^3-62211.509x^2+441428.45-792375.3654236798\n",
    "$$"
   ]
  },
  {
   "cell_type": "code",
   "execution_count": 112,
   "metadata": {},
   "outputs": [
    {
     "data": {
      "image/png": "[encoded data removed]",
      "text/plain": [
       "<Figure size 720x360 with 2 Axes>"
      ]
     },
     "metadata": {
      "needs_background": "light"
     },
     "output_type": "display_data"
    }
   ],
   "source": [
    "plt.figure(figsize=(10,5))\n",
    "plt.subplot(1,2,1)\n",
    "plt.plot(df.index,df['EXP'],label=\"EXP\")\n",
    "plt.plot(X,reg9.predict(X9),label=\"LinearRegression\")\n",
    "\n",
    "plt.subplot(1,2,2)\n",
    "plt.plot(df.index,df['CUMSUM_EXP'],label=\"EXP\")\n",
    "plt.plot(X,reg10.predict(X10),label=\"LinearRegression\")\n",
    "\n",
    "plt.xlabel('LEVEL')\n",
    "plt.ylabel('EXP')\n",
    "\n",
    "\n",
    "plt.grid(True)\n",
    "\n",
    "\n",
    "\n"
   ]
  },
  {
   "cell_type": "code",
   "execution_count": 114,
   "metadata": {},
   "outputs": [
    {
     "data": {
      "text/html": [
       "<div>\n",
       "<style scoped>\n",
       "    .dataframe tbody tr th:only-of-type {\n",
       "        vertical-align: middle;\n",
       "    }\n",
       "\n",
       "    .dataframe tbody tr th {\n",
       "        vertical-align: top;\n",
       "    }\n",
       "\n",
       "    .dataframe thead th {\n",
       "        text-align: right;\n",
       "    }\n",
       "</style>\n",
       "<table border=\"1\" class=\"dataframe\">\n",
       "  <thead>\n",
       "    <tr style=\"text-align: right;\">\n",
       "      <th></th>\n",
       "      <th>D1</th>\n",
       "      <th>D2</th>\n",
       "      <th>D3</th>\n",
       "      <th>D4</th>\n",
       "      <th>D5</th>\n",
       "    </tr>\n",
       "  </thead>\n",
       "  <tbody>\n",
       "    <tr>\n",
       "      <th>0</th>\n",
       "      <td>1</td>\n",
       "      <td>1</td>\n",
       "      <td>1</td>\n",
       "      <td>1</td>\n",
       "      <td>1</td>\n",
       "    </tr>\n",
       "    <tr>\n",
       "      <th>1</th>\n",
       "      <td>2</td>\n",
       "      <td>4</td>\n",
       "      <td>8</td>\n",
       "      <td>16</td>\n",
       "      <td>32</td>\n",
       "    </tr>\n",
       "    <tr>\n",
       "      <th>2</th>\n",
       "      <td>3</td>\n",
       "      <td>9</td>\n",
       "      <td>27</td>\n",
       "      <td>81</td>\n",
       "      <td>243</td>\n",
       "    </tr>\n",
       "    <tr>\n",
       "      <th>3</th>\n",
       "      <td>4</td>\n",
       "      <td>16</td>\n",
       "      <td>64</td>\n",
       "      <td>256</td>\n",
       "      <td>1024</td>\n",
       "    </tr>\n",
       "    <tr>\n",
       "      <th>4</th>\n",
       "      <td>5</td>\n",
       "      <td>25</td>\n",
       "      <td>125</td>\n",
       "      <td>625</td>\n",
       "      <td>3125</td>\n",
       "    </tr>\n",
       "  </tbody>\n",
       "</table>\n",
       "</div>"
      ],
      "text/plain": [
       "   D1  D2   D3   D4    D5\n",
       "0   1   1    1    1     1\n",
       "1   2   4    8   16    32\n",
       "2   3   9   27   81   243\n",
       "3   4  16   64  256  1024\n",
       "4   5  25  125  625  3125"
      ]
     },
     "execution_count": 114,
     "metadata": {},
     "output_type": "execute_result"
    }
   ],
   "source": [
    "D1 = []\n",
    "D2 = []\n",
    "D3 = []\n",
    "D4 = []\n",
    "D5 = []\n",
    "for i in range(1,100):\n",
    "    D1.append(i)\n",
    "    D2.append(i**2)\n",
    "    D3.append(i**3)\n",
    "    D4.append(i**4)\n",
    "    D5.append(i**5)\n",
    "df_x = pd.DataFrame({\"D1\":D1,\"D2\":D2,\"D3\":D3,\"D4\":D4,\"D5\":D5})\n",
    "df_x.head()"
   ]
  },
  {
   "cell_type": "code",
   "execution_count": 116,
   "metadata": {},
   "outputs": [
    {
     "name": "stdout",
     "output_type": "stream",
     "text": [
      "[[1], [2], [3], [4], [5], [6], [7], [8], [9], [10], [11], [12], [13], [14], [15], [16], [17], [18], [19], [20], [21], [22], [23], [24], [25], [26], [27], [28], [29], [30], [31], [32], [33], [34], [35], [36], [37], [38], [39], [40], [41], [42], [43], [44], [45], [46], [47], [48], [49], [50], [51], [52], [53], [54], [55], [56], [57], [58], [59], [60], [61], [62], [63], [64], [65], [66], [67], [68], [69], [70], [71], [72], [73], [74], [75], [76], [77], [78], [79], [80], [81], [82], [83], [84], [85], [86], [87], [88], [89], [90], [91], [92], [93], [94], [95], [96], [97], [98], [99]]\n"
     ]
    }
   ],
   "source": [
    "X = []\n",
    "for i in range(1,100):\n",
    "    X.append([i])\n",
    "print(X)"
   ]
  },
  {
   "cell_type": "code",
   "execution_count": 120,
   "metadata": {},
   "outputs": [
    {
     "data": {
      "text/plain": [
       "[<matplotlib.lines.Line2D at 0x11d907bd0>]"
      ]
     },
     "execution_count": 120,
     "metadata": {},
     "output_type": "execute_result"
    },
    {
     "data": {
      "image/png": "[encoded data removed]",
      "text/plain": [
       "<Figure size 1440x360 with 1 Axes>"
      ]
     },
     "metadata": {
      "needs_background": "light"
     },
     "output_type": "display_data"
    }
   ],
   "source": [
    "plt.figure(figsize=(20,5))\n",
    "plt.subplot(1,2,2)\n",
    "plt.plot(df.index,df['CUMSUM_EXP'],label=\"EXP\")\n",
    "plt.plot(X,reg10.predict(df_x),label=\"LinearRegression\")"
   ]
  },
  {
   "cell_type": "code",
   "execution_count": 147,
   "metadata": {},
   "outputs": [
    {
     "data": {
      "text/plain": [
       "1392549526.101953"
      ]
     },
     "execution_count": 147,
     "metadata": {},
     "output_type": "execute_result"
    }
   ],
   "source": [
    "np.set_printoptions(suppress=True)\n",
    "reg10.predict(df_x[98:])[0]"
   ]
  },
  {
   "cell_type": "code",
   "execution_count": 148,
   "metadata": {},
   "outputs": [
    {
     "data": {
      "text/html": [
       "<div>\n",
       "<style scoped>\n",
       "    .dataframe tbody tr th:only-of-type {\n",
       "        vertical-align: middle;\n",
       "    }\n",
       "\n",
       "    .dataframe tbody tr th {\n",
       "        vertical-align: top;\n",
       "    }\n",
       "\n",
       "    .dataframe thead th {\n",
       "        text-align: right;\n",
       "    }\n",
       "</style>\n",
       "<table border=\"1\" class=\"dataframe\">\n",
       "  <thead>\n",
       "    <tr style=\"text-align: right;\">\n",
       "      <th></th>\n",
       "      <th>D1</th>\n",
       "      <th>D2</th>\n",
       "      <th>D3</th>\n",
       "      <th>D4</th>\n",
       "      <th>D5</th>\n",
       "    </tr>\n",
       "  </thead>\n",
       "  <tbody>\n",
       "    <tr>\n",
       "      <th>98</th>\n",
       "      <td>99</td>\n",
       "      <td>9801</td>\n",
       "      <td>970299</td>\n",
       "      <td>96059601</td>\n",
       "      <td>9509900499</td>\n",
       "    </tr>\n",
       "  </tbody>\n",
       "</table>\n",
       "</div>"
      ],
      "text/plain": [
       "    D1    D2      D3        D4          D5\n",
       "98  99  9801  970299  96059601  9509900499"
      ]
     },
     "execution_count": 148,
     "metadata": {},
     "output_type": "execute_result"
    }
   ],
   "source": [
    "df_x[98:]"
   ]
  },
  {
   "cell_type": "code",
   "execution_count": 152,
   "metadata": {},
   "outputs": [
    {
     "data": {
      "text/plain": [
       "66311.882"
      ]
     },
     "execution_count": 152,
     "metadata": {},
     "output_type": "execute_result"
    }
   ],
   "source": [
    "1392549526.101953/21000"
   ]
  }
 ],
 "metadata": {
  "kernelspec": {
   "display_name": "Python 3",
   "language": "python",
   "name": "python3"
  },
  "language_info": {
   "codemirror_mode": {
    "name": "ipython",
    "version": 3
   },
   "file_extension": ".py",
   "mimetype": "text/x-python",
   "name": "python",
   "nbconvert_exporter": "python",
   "pygments_lexer": "ipython3",
   "version": "3.7.4"
  }
 },
 "nbformat": 4,
 "nbformat_minor": 2
}
